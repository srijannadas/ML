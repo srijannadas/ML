{
 "cells": [
  {
   "cell_type": "code",
   "execution_count": 2,
   "metadata": {
    "executionInfo": {
     "elapsed": 1140,
     "status": "ok",
     "timestamp": 1668700206340,
     "user": {
      "displayName": "Ankita Dhar",
      "userId": "04065343642618764505"
     },
     "user_tz": -330
    },
    "id": "RtvJFt3kR0d8"
   },
   "outputs": [],
   "source": [
    "import nltk\n",
    "from nltk.corpus import twitter_samples\n",
    "from nltk.corpus import stopwords\n",
    "\n",
    "import numpy as np"
   ]
  },
  {
   "cell_type": "code",
   "execution_count": 3,
   "metadata": {
    "colab": {
     "base_uri": "https://localhost:8080/"
    },
    "executionInfo": {
     "elapsed": 1555,
     "status": "ok",
     "timestamp": 1668700218972,
     "user": {
      "displayName": "Ankita Dhar",
      "userId": "04065343642618764505"
     },
     "user_tz": -330
    },
    "id": "PC1fowOZSHvK",
    "outputId": "aaed4123-29c4-4566-f4e9-414268878b97"
   },
   "outputs": [
    {
     "name": "stderr",
     "output_type": "stream",
     "text": [
      "[nltk_data] Downloading package twitter_samples to\n",
      "[nltk_data]     C:\\Users\\isteb\\AppData\\Roaming\\nltk_data...\n",
      "[nltk_data]   Unzipping corpora\\twitter_samples.zip.\n",
      "[nltk_data] Downloading package stopwords to\n",
      "[nltk_data]     C:\\Users\\isteb\\AppData\\Roaming\\nltk_data...\n",
      "[nltk_data]   Unzipping corpora\\stopwords.zip.\n"
     ]
    },
    {
     "data": {
      "text/plain": [
       "True"
      ]
     },
     "execution_count": 3,
     "metadata": {},
     "output_type": "execute_result"
    }
   ],
   "source": [
    "nltk.download('twitter_samples')\n",
    "nltk.download('stopwords')"
   ]
  },
  {
   "cell_type": "code",
   "execution_count": 4,
   "metadata": {
    "executionInfo": {
     "elapsed": 1278,
     "status": "ok",
     "timestamp": 1668700260824,
     "user": {
      "displayName": "Ankita Dhar",
      "userId": "04065343642618764505"
     },
     "user_tz": -330
    },
    "id": "f-6F2dS5SNSJ"
   },
   "outputs": [],
   "source": [
    "all_positive_tweets = twitter_samples.strings('positive_tweets.json')\n",
    "all_negative_tweets = twitter_samples.strings('negative_tweets.json')"
   ]
  },
  {
   "cell_type": "code",
   "execution_count": 5,
   "metadata": {
    "executionInfo": {
     "elapsed": 496,
     "status": "ok",
     "timestamp": 1668700365251,
     "user": {
      "displayName": "Ankita Dhar",
      "userId": "04065343642618764505"
     },
     "user_tz": -330
    },
    "id": "_k6K8ko_SVwh"
   },
   "outputs": [],
   "source": [
    "import re\n",
    "import string\n",
    "\n",
    "from nltk.tokenize import TweetTokenizer\n",
    "from nltk.stem import PorterStemmer\n",
    "from nltk.corpus import stopwords\n",
    "\n",
    "def process_tweet(tweet):\n",
    "  stemmer = PorterStemmer() \n",
    "  stopwords_english = stopwords.words('english')\n",
    "\n",
    "  # remove the stock market tickers\n",
    "  tweet = re.sub(r'\\$\\w*', '', tweet)\n",
    "\n",
    "  # remove the old styles retweet text 'RT'\n",
    "  tweet = re.sub(r'^RT[\\s]+', '', tweet)\n",
    "\n",
    "  # remove the hyperlinks\n",
    "  tweet = re.sub(r'https?:\\/\\/.*[\\r\\n]*', '', tweet)\n",
    "\n",
    "  # remove the # symbol\n",
    "  tweet = re.sub(r'#', '', tweet)\n",
    "\n",
    "  # Tokenize the tweet\n",
    "  tokenizer = TweetTokenizer(preserve_case=False, reduce_len=True, strip_handles=True)\n",
    "  tweet_tokens = tokenizer.tokenize(tweet)\n",
    "\n",
    "  tweet_clean = []\n",
    "\n",
    "  # removing stopwords and punctuation\n",
    "  for word in tweet_tokens:\n",
    "    if (word not in stopwords_english and\n",
    "        word not in string.punctuation):\n",
    "      stem_word = stemmer.stem(word)    #stemming\n",
    "      tweet_clean.append(stem_word)\n",
    "\n",
    "  return tweet_clean"
   ]
  },
  {
   "cell_type": "code",
   "execution_count": 6,
   "metadata": {
    "executionInfo": {
     "elapsed": 12,
     "status": "ok",
     "timestamp": 1668700388258,
     "user": {
      "displayName": "Ankita Dhar",
      "userId": "04065343642618764505"
     },
     "user_tz": -330
    },
    "id": "Mq1ThDpjSVvS"
   },
   "outputs": [],
   "source": [
    "def count_tweets(tweets, ys):\n",
    "  ys_list = np.squeeze(ys).tolist()\n",
    "  freqs ={}\n",
    "\n",
    "  for y, tweet in zip(ys_list, tweets):\n",
    "    for word in process_tweet(tweet):\n",
    "      pair = (word, y)\n",
    "      if pair in freqs:\n",
    "        freqs[pair] +=1\n",
    "      else:\n",
    "        freqs[pair] = 1\n",
    "  \n",
    "  return freqs"
   ]
  },
  {
   "cell_type": "code",
   "execution_count": 7,
   "metadata": {
    "executionInfo": {
     "elapsed": 563,
     "status": "ok",
     "timestamp": 1668700402246,
     "user": {
      "displayName": "Ankita Dhar",
      "userId": "04065343642618764505"
     },
     "user_tz": -330
    },
    "id": "9eIJfWMqS02a"
   },
   "outputs": [],
   "source": [
    "def lookup(freqs, word, label):\n",
    "  n = 0\n",
    "  pair = (word, label)\n",
    "  if pair in freqs:\n",
    "    n = freqs[pair]\n",
    "  return n "
   ]
  },
  {
   "cell_type": "code",
   "execution_count": 8,
   "metadata": {
    "executionInfo": {
     "elapsed": 10,
     "status": "ok",
     "timestamp": 1668700413479,
     "user": {
      "displayName": "Ankita Dhar",
      "userId": "04065343642618764505"
     },
     "user_tz": -330
    },
    "id": "ofmREu0kS5Pa"
   },
   "outputs": [],
   "source": [
    "# splitting the data for training and testing \n",
    "train_pos = all_positive_tweets[:4000]\n",
    "test_pos = all_positive_tweets[4000:]\n",
    "\n",
    "train_neg = all_negative_tweets[:4000]\n",
    "test_neg = all_negative_tweets[4000:]\n",
    "\n",
    "train_x = train_pos + train_neg\n",
    "test_x = test_pos + test_neg\n",
    "\n",
    "# numpy array for the labels in the training set\n",
    "train_y = np.append(np.ones((len(train_pos))), np.zeros((len(train_neg))))\n",
    "test_y = np.append(np.ones((len(test_neg))), np.zeros((len(test_neg))))"
   ]
  },
  {
   "cell_type": "code",
   "execution_count": 9,
   "metadata": {
    "executionInfo": {
     "elapsed": 4585,
     "status": "ok",
     "timestamp": 1668700431599,
     "user": {
      "displayName": "Ankita Dhar",
      "userId": "04065343642618764505"
     },
     "user_tz": -330
    },
    "id": "7tJ1JAGqS6Tq"
   },
   "outputs": [],
   "source": [
    "# Build a frequency dictionary\n",
    "freqs = count_tweets(train_x, train_y)\n",
    "\n",
    "def train_naive_bayes(freqs, train_x, train_y):\n",
    "  logliklihood = {}\n",
    "  logprior = 0\n",
    "\n",
    "  # calculate V, number of unique words in the vocabulary\n",
    "  vocab = set([pair[0] for pair in freqs.keys()])\n",
    "  V = len(vocab)\n",
    "\n",
    "  ## Calculate N_pos, N_neg, V_pos, V_neg\n",
    "  # N_pos : total number of positive words\n",
    "  # N_neg : total number of negative words\n",
    "  # V_pos : total number of unique positive words\n",
    "  # V_neg : total number of unique negative words\n",
    "\n",
    "  N_pos = N_neg = V_pos = V_neg = 0\n",
    "  for pair in freqs.keys():\n",
    "    if pair[1]>0:\n",
    "      V_pos +=1\n",
    "      N_pos += freqs[pair]\n",
    "    else:\n",
    "      V_neg +=1\n",
    "      N_neg += freqs[pair]\n",
    "\n",
    "  # Number of Documents (tweets)\n",
    "  D = len(train_y)\n",
    "\n",
    "  # D_pos, number of positive documnets\n",
    "  D_pos = len(list(filter(lambda x: x>0, train_y)))\n",
    "\n",
    "  # D_pos, number of negative documnets\n",
    "  D_neg = len(list(filter(lambda x: x<=0, train_y)))\n",
    "\n",
    "  # calculate the logprior\n",
    "  logprior = np.log(D_pos) - np.log(D_neg)\n",
    "\n",
    "  for word in vocab:\n",
    "    freqs_pos = lookup(freqs, word, 1)\n",
    "    freqs_neg = lookup(freqs, word, 0)\n",
    "\n",
    "    # calculte the probability of each word being positive and negative\n",
    "    p_w_pos = (freqs_pos+1)/(N_pos+V)\n",
    "    p_w_neg = (freqs_neg+1)/(N_neg+V)\n",
    "\n",
    "    logliklihood[word] = np.log(p_w_pos/p_w_neg)\n",
    "  \n",
    "  return logprior, logliklihood"
   ]
  },
  {
   "cell_type": "code",
   "execution_count": 10,
   "metadata": {
    "colab": {
     "base_uri": "https://localhost:8080/"
    },
    "executionInfo": {
     "elapsed": 483,
     "status": "ok",
     "timestamp": 1668700442916,
     "user": {
      "displayName": "Ankita Dhar",
      "userId": "04065343642618764505"
     },
     "user_tz": -330
    },
    "id": "5hdTKkTfS--C",
    "outputId": "254be2b9-0a03-460d-b7a9-0afac8d4f0fb"
   },
   "outputs": [
    {
     "name": "stdout",
     "output_type": "stream",
     "text": [
      "0.0\n",
      "9086\n"
     ]
    }
   ],
   "source": [
    "logprior, loglikelihood = train_naive_bayes(freqs, train_x, train_y)\n",
    "print(logprior)\n",
    "print(len(loglikelihood))"
   ]
  },
  {
   "cell_type": "code",
   "execution_count": 11,
   "metadata": {
    "executionInfo": {
     "elapsed": 12,
     "status": "ok",
     "timestamp": 1668700455942,
     "user": {
      "displayName": "Ankita Dhar",
      "userId": "04065343642618764505"
     },
     "user_tz": -330
    },
    "id": "zj3xj-UZTDWK"
   },
   "outputs": [],
   "source": [
    "def naive_bayes_predict(tweet, logprior, loglikelihood):\n",
    "  word_l = process_tweet(tweet)\n",
    "  p = 0\n",
    "  p+=logprior\n",
    "\n",
    "  for word in word_l:\n",
    "    if word in loglikelihood:\n",
    "      p+=loglikelihood[word]\n",
    "\n",
    "  return p"
   ]
  },
  {
   "cell_type": "code",
   "execution_count": 12,
   "metadata": {
    "colab": {
     "base_uri": "https://localhost:8080/"
    },
    "executionInfo": {
     "elapsed": 780,
     "status": "ok",
     "timestamp": 1668700835953,
     "user": {
      "displayName": "Ankita Dhar",
      "userId": "04065343642618764505"
     },
     "user_tz": -330
    },
    "id": "NpKBBMUhTEqq",
    "outputId": "4cba0e11-e80a-4329-b6b7-f96f3bab63e1"
   },
   "outputs": [
    {
     "name": "stdout",
     "output_type": "stream",
     "text": [
      "Naive Bayes accuracy = 0.9940\n"
     ]
    }
   ],
   "source": [
    "def test_naive_bayes(test_x, test_y, logprior, loglikelihood):\n",
    "  accuracy = 0\n",
    "  y_hats = []\n",
    "  for tweet in test_x:\n",
    "    if naive_bayes_predict(tweet, logprior, loglikelihood) > 0:\n",
    "      y_hat_i = 1\n",
    "    else:\n",
    "      y_hat_i = 0\n",
    "    y_hats.append(y_hat_i)\n",
    "  error = np.mean(np.absolute(test_y - y_hats))\n",
    "  accuracy = 1-error\n",
    "\n",
    "  return accuracy\n",
    "  \n",
    "print(\"Naive Bayes accuracy = %0.4f\" %(test_naive_bayes(test_x, test_y, logprior, loglikelihood)))"
   ]
  },
  {
   "cell_type": "code",
   "execution_count": 17,
   "metadata": {
    "colab": {
     "base_uri": "https://localhost:8080/"
    },
    "executionInfo": {
     "elapsed": 401,
     "status": "ok",
     "timestamp": 1668700811270,
     "user": {
      "displayName": "Ankita Dhar",
      "userId": "04065343642618764505"
     },
     "user_tz": -330
    },
    "id": "2fZzgSyaTffa",
    "outputId": "6cd7e506-f491-41c4-d52c-7d922660e3bc"
   },
   "outputs": [
    {
     "name": "stdout",
     "output_type": "stream",
     "text": [
      "\u001b[92m\n",
      "I am very happy :: Positive sentiment (2.15)\n",
      "\u001b[91m\n",
      "I am bad :: Positive sentiment (-1.29)\n"
     ]
    }
   ],
   "source": [
    "tweets = ['I am very happy', 'I am bad']\n",
    "for tweet in tweets:\n",
    "  p = naive_bayes_predict(tweet, logprior, loglikelihood)\n",
    "  if p>1:\n",
    "    print('\\033[92m')\n",
    "    print(f'{tweet} :: Positive sentiment ({p:.2f})')\n",
    "  else:\n",
    "    print('\\033[91m')\n",
    "    print(f'{tweet} :: Positive sentiment ({p:.2f})')"
   ]
  }
 ],
 "metadata": {
  "colab": {
   "authorship_tag": "ABX9TyPS4xJ5kRlux2uJMSAFp7ZV",
   "provenance": []
  },
  "kernelspec": {
   "display_name": "Python 3.10.8 64-bit (microsoft store)",
   "language": "python",
   "name": "python3"
  },
  "language_info": {
   "codemirror_mode": {
    "name": "ipython",
    "version": 3
   },
   "file_extension": ".py",
   "mimetype": "text/x-python",
   "name": "python",
   "nbconvert_exporter": "python",
   "pygments_lexer": "ipython3",
   "version": "3.10.9 (tags/v3.10.9:1dd9be6, Dec  6 2022, 20:01:21) [MSC v.1934 64 bit (AMD64)]"
  },
  "vscode": {
   "interpreter": {
    "hash": "201252b9831f9e8401edfd5ef93787e6b8dc372f2aa3d16ddc72d02aa469f4cb"
   }
  }
 },
 "nbformat": 4,
 "nbformat_minor": 1
}
